{
  "nbformat": 4,
  "nbformat_minor": 0,
  "metadata": {
    "colab": {
      "name": "Using_tf_in_keras.ipynb",
      "version": "0.3.2",
      "provenance": [],
      "collapsed_sections": []
    },
    "kernelspec": {
      "name": "python3",
      "display_name": "Python 3"
    }
  },
  "cells": [
    {
      "cell_type": "markdown",
      "metadata": {
        "id": "view-in-github",
        "colab_type": "text"
      },
      "source": [
        "[View in Colaboratory](https://colab.research.google.com/github/oduerr/dl_tutorial/blob/master/tensorflow/keras/using_tf_in_keras.ipynb)"
      ]
    },
    {
      "metadata": {
        "id": "fK9V8I6v2djf",
        "colab_type": "text"
      },
      "cell_type": "markdown",
      "source": [
        "### Creating Custom Layer\n",
        "\n",
        "Keras is great, but sometimes you need the flexibility of the low level framework. \n",
        "\n",
        "For example, currently (spring 2018) keras does not support for dropout in the forward pass. If you want to add this you can build your own function.\n",
        "\n",
        "#### Stateless custom layes\n",
        "If you don't need variables or other state in your custom layer, you can use the "
      ]
    },
    {
      "metadata": {
        "id": "NktkF_LE1YUS",
        "colab_type": "code",
        "colab": {
          "base_uri": "https://localhost:8080/",
          "height": 34
        },
        "outputId": "9a50cd47-deb3-4e4f-b20b-beb24b24d335"
      },
      "cell_type": "code",
      "source": [
        "import numpy as np\n",
        "import matplotlib.pyplot as plt\n",
        "%matplotlib inline\n",
        "\n",
        "import tensorflow as tf \n",
        "import keras\n",
        "from keras.models import Sequential\n",
        "from keras.layers import Dense\n",
        "from keras.layers.core import Lambda # needed to build the custom layer\n",
        "from keras import backend as K #Now we have access to the backend (could be tensorflow, theano,... )\n",
        "\n",
        "tf.__version__, keras.__version__"
      ],
      "execution_count": 12,
      "outputs": [
        {
          "output_type": "execute_result",
          "data": {
            "text/plain": [
              "('1.6.0', '2.1.5')"
            ]
          },
          "metadata": {
            "tags": []
          },
          "execution_count": 12
        }
      ]
    },
    {
      "metadata": {
        "id": "kP8D5bU94j8B",
        "colab_type": "text"
      },
      "cell_type": "markdown",
      "source": [
        "##### Definition of the custom layer\n",
        "We use the `droupout` function of the backend, to create a custom function. "
      ]
    },
    {
      "metadata": {
        "id": "gJ0ETVN411zI",
        "colab_type": "code",
        "colab": {}
      },
      "cell_type": "code",
      "source": [
        "def mcdropout(x):\n",
        "  #return tf.nn.dropout(x=x, keep_prob=0.33333) #using TensorFlow\n",
        "  return K.dropout(x, level=0.5) # beeing agnostic of the backend"
      ],
      "execution_count": 0,
      "outputs": []
    },
    {
      "metadata": {
        "id": "80aSsJN65mbq",
        "colab_type": "text"
      },
      "cell_type": "markdown",
      "source": [
        "##### Integrating the custom function as a layer\n",
        "\n",
        "We now integrate the custom function in a layer"
      ]
    },
    {
      "metadata": {
        "id": "YzuYxlKg5t3b",
        "colab_type": "code",
        "colab": {}
      },
      "cell_type": "code",
      "source": [
        "model = Sequential()\n",
        "model.add(Lambda(mcdropout, input_shape=(5,)))\n",
        "#model.add(Dense(10))\n",
        "#... Usually you would have many more layers \n",
        "model.compile(loss='categorical_crossentropy',optimizer='adam')"
      ],
      "execution_count": 0,
      "outputs": []
    },
    {
      "metadata": {
        "id": "8QwF3kzv6gKp",
        "colab_type": "code",
        "colab": {
          "base_uri": "https://localhost:8080/",
          "height": 51
        },
        "outputId": "4ad8aeb3-7ad7-4d3f-bd66-975f93a17faa"
      },
      "cell_type": "code",
      "source": [
        "model.predict(np.ones((2,5))) "
      ],
      "execution_count": 82,
      "outputs": [
        {
          "output_type": "execute_result",
          "data": {
            "text/plain": [
              "array([[2., 2., 0., 2., 2.],\n",
              "       [0., 2., 0., 0., 0.]], dtype=float32)"
            ]
          },
          "metadata": {
            "tags": []
          },
          "execution_count": 82
        }
      ]
    },
    {
      "metadata": {
        "id": "fzezQ5mv_hKi",
        "colab_type": "text"
      },
      "cell_type": "markdown",
      "source": [
        "#### All in one\n",
        "\n",
        "If you really need to show that you master python you can also do this in one line. "
      ]
    },
    {
      "metadata": {
        "id": "FzLiHGej_6id",
        "colab_type": "code",
        "colab": {}
      },
      "cell_type": "code",
      "source": [
        "model = Sequential()\n",
        "model.add(Lambda(lambda x: K.dropout(x, level=0.5), input_shape=(5,)))\n",
        "#model.add(Dense(10))\n",
        "#... Usually you would have many more layers \n",
        "model.compile(loss='categorical_crossentropy',optimizer='adam')"
      ],
      "execution_count": 0,
      "outputs": []
    },
    {
      "metadata": {
        "id": "WYrfQRWlAUsw",
        "colab_type": "code",
        "colab": {
          "base_uri": "https://localhost:8080/",
          "height": 51
        },
        "outputId": "2a84054b-a3f5-4a11-ffe1-37de449760cc"
      },
      "cell_type": "code",
      "source": [
        "model.predict(np.ones((2,5))) "
      ],
      "execution_count": 86,
      "outputs": [
        {
          "output_type": "execute_result",
          "data": {
            "text/plain": [
              "array([[0., 2., 0., 2., 0.],\n",
              "       [0., 0., 2., 2., 2.]], dtype=float32)"
            ]
          },
          "metadata": {
            "tags": []
          },
          "execution_count": 86
        }
      ]
    }
  ]
}