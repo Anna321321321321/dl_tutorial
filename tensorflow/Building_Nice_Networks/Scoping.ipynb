{
  "nbformat": 4,
  "nbformat_minor": 0,
  "metadata": {
    "colab": {
      "name": "Scoping.ipynb",
      "version": "0.3.2",
      "provenance": []
    },
    "kernelspec": {
      "display_name": "Python 2",
      "language": "python",
      "name": "python2"
    }
  },
  "cells": [
    {
      "cell_type": "markdown",
      "metadata": {
        "id": "view-in-github",
        "colab_type": "text"
      },
      "source": [
        "[View in Colaboratory](https://colab.research.google.com/github/oduerr/dl_tutorial/blob/master/tensorflow/Building_Nice_Networks/Scoping.ipynb)"
      ]
    },
    {
      "metadata": {
        "id": "nfMErtbrFCUf",
        "colab_type": "code",
        "colab": {
          "base_uri": "https://localhost:8080/",
          "height": 34
        },
        "outputId": "448afa25-dab0-4b8e-c7a9-8de3d2e67db1"
      },
      "cell_type": "code",
      "source": [
        "import tensorflow as tf\n",
        "import numpy as np\n",
        "import matplotlib.pyplot as plt\n",
        "\n",
        "tf.__version__"
      ],
      "execution_count": 1,
      "outputs": [
        {
          "output_type": "execute_result",
          "data": {
            "text/plain": [
              "'1.6.0'"
            ]
          },
          "metadata": {
            "tags": []
          },
          "execution_count": 1
        }
      ]
    },
    {
      "metadata": {
        "id": "hFtJd36IFCUl",
        "colab_type": "text"
      },
      "cell_type": "markdown",
      "source": [
        "## Scoping \n",
        "\n",
        "### What for\n",
        "\n",
        "First, the **layout in tensorboard** respects scopes and thus creates nice structured layouts in which operations and weight with names like 'conv1/bias' and 'conv1/weights' are grouped together. If you whish, you can create these names by hand. However the scoping mechanism has additional benefit as we see below.\n",
        "\n",
        "Another use case for name scoping is to make **building blocks** which can be used to assemble a network. There are two mechanims around. Variable and name scopes, I recommend using variable scopes which you can also use to share weights (see below). For the difference see http://stackoverflow.com/questions/35919020/whats-the-difference-of-name-scope-and-a-variable-scope-in-tensorflow."
      ]
    },
    {
      "metadata": {
        "id": "FjgVRMb4FCUn",
        "colab_type": "code",
        "colab": {
          "base_uri": "https://localhost:8080/",
          "height": 34
        },
        "outputId": "07f6bfb6-3a88-4fd5-9581-3a8d22adb5c3"
      },
      "cell_type": "code",
      "source": [
        "tf.reset_default_graph()\n",
        "with tf.variable_scope('conv1/'):\n",
        "    net = tf.placeholder(dtype='float32', \n",
        "                         shape=(None, 64, 64, 3), name='Input')\n",
        "    W = tf.get_variable('W', shape=(3,3,3,10)) \n",
        "    var = tf.Variable(tf.truncated_normal((3,3,3,10)), \n",
        "                      name='Kernels')\n",
        "    ops = tf.nn.conv2d(net, W, (1,1,1,1), padding='SAME')\n",
        "var.name, ops.name"
      ],
      "execution_count": 2,
      "outputs": [
        {
          "output_type": "execute_result",
          "data": {
            "text/plain": [
              "(u'conv1/Kernels:0', u'conv1/Conv2D:0')"
            ]
          },
          "metadata": {
            "tags": []
          },
          "execution_count": 2
        }
      ]
    },
    {
      "metadata": {
        "id": "lF67MZlGFCUu",
        "colab_type": "text"
      },
      "cell_type": "markdown",
      "source": [
        "### Using name scoping as a building block"
      ]
    },
    {
      "metadata": {
        "id": "ZOTOhAz4FCUv",
        "colab_type": "code",
        "colab": {
          "base_uri": "https://localhost:8080/",
          "height": 17
        },
        "outputId": "d50087a4-48c9-4b1d-9b3f-6221b3b340a3"
      },
      "cell_type": "code",
      "source": [
        "tf.reset_default_graph()\n",
        "def conv_layer(net, shape, scope):\n",
        "    with tf.variable_scope(scope) as v_scope:\n",
        "        kernel = tf.Variable(tf.truncated_normal(shape, dtype=tf.float32,\n",
        "                                                     stddev=1e-1), name='weights')\n",
        "        conv = tf.nn.conv2d(net, kernel, [1, 1, 1, 1], padding='SAME')\n",
        "        biases = tf.Variable(tf.constant(0.0, shape=[shape[3]], dtype=tf.float32),\n",
        "                                 trainable=True, name='biases')\n",
        "        out = tf.nn.bias_add(conv, biases)\n",
        "        return tf.nn.relu(out, name=scope)"
      ],
      "execution_count": 3,
      "outputs": []
    },
    {
      "metadata": {
        "id": "sQBY83BGFCUy",
        "colab_type": "code",
        "colab": {
          "base_uri": "https://localhost:8080/",
          "height": 17
        },
        "outputId": "dc77340b-b673-4849-9659-1a76b757bd6e"
      },
      "cell_type": "code",
      "source": [
        "net = tf.placeholder(dtype='float32', shape=(None, 64, 64, 3), name='Input')\n",
        "net = conv_layer(net, [3, 3, 3, 64], 'conv1')\n",
        "net = conv_layer(net, [3, 3, 64, 128], 'conv2')\n",
        "net = conv_layer(net, [3, 3, 128, 128], 'conv3')\n",
        "#writer = tf.train.SummaryWriter(\"/tmp/dumm/scoping2\", tf.get_default_graph(), 'graph.pbtxt') \n",
        "writer = tf.summary.FileWriter(\"/tmp/dumm/scoping2\", tf.get_default_graph(), 'graph.pbtxt')"
      ],
      "execution_count": 4,
      "outputs": []
    },
    {
      "metadata": {
        "id": "Rj5VBaBMFCU0",
        "colab_type": "text"
      },
      "cell_type": "markdown",
      "source": [
        "![](https://github.com/oduerr/dl_tutorial/blob/master/tensorflow/Building_Nice_Networks/tb_scoping.png?raw=1) "
      ]
    },
    {
      "metadata": {
        "id": "8Uq0wR1OFCU2",
        "colab_type": "text"
      },
      "cell_type": "markdown",
      "source": [
        "### Variable Scope\n",
        "Variable scoping is a mechanism to share the variables of (possible large) parts of a network. These shared variables are very useful e.g. for Siamese Networks. See also https://www.tensorflow.org/versions/master/how_tos/variable_scope/index.html\n",
        "\n",
        "#### The two functions to use together\n",
        "* `tf.variable_scope` created the name-space or better context manager\n",
        "* `tf.get_variable()` gets or newly creates variables in the name scope "
      ]
    },
    {
      "metadata": {
        "id": "eNSsJtutFCU3",
        "colab_type": "code",
        "colab": {
          "base_uri": "https://localhost:8080/",
          "height": 34
        },
        "outputId": "d2474248-4c13-468e-f0d4-4cabcdd5281c"
      },
      "cell_type": "code",
      "source": [
        "tf.reset_default_graph()\n",
        "with tf.variable_scope('foo'):\n",
        "    with tf.variable_scope('bar'):\n",
        "     d = tf.get_variable('v', shape=(1,10))\n",
        "d.name"
      ],
      "execution_count": 5,
      "outputs": [
        {
          "output_type": "execute_result",
          "data": {
            "text/plain": [
              "u'foo/bar/v:0'"
            ]
          },
          "metadata": {
            "tags": []
          },
          "execution_count": 5
        }
      ]
    },
    {
      "metadata": {
        "id": "sJCVa5prFCU-",
        "colab_type": "text"
      },
      "cell_type": "markdown",
      "source": [
        "#### Reusing variables vs new variables\n",
        "\n",
        "##### Creating new variables\n",
        "The context manager is creating new variables by default. If you request a variable, which has already been created it returns an error."
      ]
    },
    {
      "metadata": {
        "id": "msqPjaOgFCU_",
        "colab_type": "code",
        "colab": {
          "base_uri": "https://localhost:8080/",
          "height": 34
        },
        "outputId": "bcaf303e-5b70-4227-e137-99fb316e04fb"
      },
      "cell_type": "code",
      "source": [
        "tf.reset_default_graph()\n",
        "with tf.variable_scope('var'):\n",
        "    a1 = tf.get_variable('a', shape=(1))\n",
        "    #This variable is used and thus this would result in an error\n",
        "    #a1_1 = tf.get_variable('a', shape=(1)) \n",
        "    a2 = tf.get_variable('a2', shape=(1))    \n",
        "a1.name,a2.name"
      ],
      "execution_count": 6,
      "outputs": [
        {
          "output_type": "execute_result",
          "data": {
            "text/plain": [
              "(u'var/a:0', u'var/a2:0')"
            ]
          },
          "metadata": {
            "tags": []
          },
          "execution_count": 6
        }
      ]
    },
    {
      "metadata": {
        "id": "0oVS_jbTFCVE",
        "colab_type": "text"
      },
      "cell_type": "markdown",
      "source": [
        "##### Reusing variables\n",
        "\n",
        "Reusing variables is important when it come to share variables such as in Siamese networks"
      ]
    },
    {
      "metadata": {
        "id": "2rEUhjn4FCVG",
        "colab_type": "code",
        "colab": {
          "base_uri": "https://localhost:8080/",
          "height": 34
        },
        "outputId": "c4917f9c-5f22-4e25-d044-1af5f53e6164"
      },
      "cell_type": "code",
      "source": [
        "tf.reset_default_graph()\n",
        "\n",
        "with tf.variable_scope('var', reuse=False):\n",
        "     a1 = tf.get_variable('a', shape=(1))\n",
        "\n",
        "with tf.variable_scope('var', reuse=True):\n",
        "    a1_1 = tf.get_variable('a', shape=(1)) #This variable is reused\n",
        "    #This would give an error, since that variable has not been used before\n",
        "    #a2 = tf.get_variable('a2', shape=(1)) \n",
        "a1.name, a1_1.name"
      ],
      "execution_count": 7,
      "outputs": [
        {
          "output_type": "execute_result",
          "data": {
            "text/plain": [
              "(u'var/a:0', u'var/a:0')"
            ]
          },
          "metadata": {
            "tags": []
          },
          "execution_count": 7
        }
      ]
    },
    {
      "metadata": {
        "id": "MHxoBDpvFCVM",
        "colab_type": "code",
        "colab": {
          "base_uri": "https://localhost:8080/",
          "height": 34
        },
        "outputId": "4e479833-a5bb-43d6-e9c6-4b6d0c0e12f0"
      },
      "cell_type": "code",
      "source": [
        "tf.reset_default_graph()\n",
        "\n",
        "with tf.variable_scope('var', reuse=False) as var_context:\n",
        "    a1 = tf.get_variable('a', shape=(1))\n",
        "    var_context.reuse_variables()\n",
        "    #Alternatively tf.get_variable_scope().reuse_variables()\n",
        "    a1_1 = tf.get_variable('a', shape=(1))\n",
        "a1.name,a1_1.name"
      ],
      "execution_count": 9,
      "outputs": [
        {
          "output_type": "execute_result",
          "data": {
            "text/plain": [
              "(u'var/a:0', u'var/a:0')"
            ]
          },
          "metadata": {
            "tags": []
          },
          "execution_count": 9
        }
      ]
    }
  ]
}